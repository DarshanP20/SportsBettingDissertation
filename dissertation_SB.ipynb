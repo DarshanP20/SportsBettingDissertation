{
  "nbformat": 4,
  "nbformat_minor": 0,
  "metadata": {
    "colab": {
      "name": "dissertation-SB.ipynb",
      "provenance": [],
      "collapsed_sections": [
        "fxdlU3SCaTKn",
        "Lp3SenYIxCXn",
        "pN4xfj_5Bqr0",
        "5ZAx63zYf7_X",
        "ifEYYvDGgiTW"
      ],
      "authorship_tag": "ABX9TyOL+0QSzYwPCRXsc59Ipp6z",
      "include_colab_link": true
    },
    "kernelspec": {
      "name": "python3",
      "display_name": "Python 3"
    }
  },
  "cells": [
    {
      "cell_type": "markdown",
      "metadata": {
        "id": "view-in-github",
        "colab_type": "text"
      },
      "source": [
        "<a href=\"https://colab.research.google.com/github/DarshanP20/SportsBettingDissertation/blob/main/dissertation_SB.ipynb\" target=\"_parent\"><img src=\"https://colab.research.google.com/assets/colab-badge.svg\" alt=\"Open In Colab\"/></a>"
      ]
    },
    {
      "cell_type": "markdown",
      "metadata": {
        "id": "fxdlU3SCaTKn"
      },
      "source": [
        "## **Kaggle Import**"
      ]
    },
    {
      "cell_type": "code",
      "metadata": {
        "id": "EJo7lWGYGVrr",
        "colab": {
          "resources": {
            "http://localhost:8080/nbextensions/google.colab/files.js": {
              "data": "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",
              "ok": true,
              "headers": [
                [
                  "content-type",
                  "application/javascript"
                ]
              ],
              "status": 200,
              "status_text": ""
            }
          },
          "base_uri": "https://localhost:8080/",
          "height": 123
        },
        "outputId": "7cc518e5-76af-4564-f513-35a2724c43bf"
      },
      "source": [
        "!pip install -q kaggle\r\n",
        "from google.colab import files\r\n",
        "files.upload() # Upload Kaggle API\r\n",
        "!mkdir ~/.kaggle\r\n",
        "!cp kaggle.json ~/.kaggle/\r\n",
        "!chmod 600 ~/.kaggle/kaggle.json\r\n",
        "!kaggle datasets download -d hugomathien/soccer"
      ],
      "execution_count": 1,
      "outputs": [
        {
          "output_type": "display_data",
          "data": {
            "text/html": [
              "\n",
              "     <input type=\"file\" id=\"files-a02631cb-ab5d-4f31-8771-17dd31f2fc43\" name=\"files[]\" multiple disabled\n",
              "        style=\"border:none\" />\n",
              "     <output id=\"result-a02631cb-ab5d-4f31-8771-17dd31f2fc43\">\n",
              "      Upload widget is only available when the cell has been executed in the\n",
              "      current browser session. Please rerun this cell to enable.\n",
              "      </output>\n",
              "      <script src=\"/nbextensions/google.colab/files.js\"></script> "
            ],
            "text/plain": [
              "<IPython.core.display.HTML object>"
            ]
          },
          "metadata": {
            "tags": []
          }
        },
        {
          "output_type": "stream",
          "text": [
            "Saving kaggle.json to kaggle.json\n",
            "Downloading soccer.zip to /content\n",
            " 98% 32.0M/32.7M [00:00<00:00, 58.8MB/s]\n",
            "100% 32.7M/32.7M [00:00<00:00, 94.1MB/s]\n"
          ],
          "name": "stdout"
        }
      ]
    },
    {
      "cell_type": "code",
      "metadata": {
        "colab": {
          "base_uri": "https://localhost:8080/"
        },
        "id": "NuehhJHh5Bvt",
        "outputId": "25fdd5a7-520f-4b3d-dc35-9543ec549ad9"
      },
      "source": [
        "!unzip soccer.zip && rm soccer.zip\r\n",
        "# !gunzip /content/*.csv.gz"
      ],
      "execution_count": 2,
      "outputs": [
        {
          "output_type": "stream",
          "text": [
            "Archive:  soccer.zip\n",
            "  inflating: database.sqlite         \n"
          ],
          "name": "stdout"
        }
      ]
    },
    {
      "cell_type": "markdown",
      "metadata": {
        "id": "Lp3SenYIxCXn"
      },
      "source": [
        "## ***Import Libararies***"
      ]
    },
    {
      "cell_type": "code",
      "metadata": {
        "id": "uUYiQxHyxKn7"
      },
      "source": [
        "import pandas as pd \r\n",
        "import numpy as np\r\n",
        "import sqlite3\r\n",
        "import matplotlib.pyplot as plt"
      ],
      "execution_count": 2,
      "outputs": []
    },
    {
      "cell_type": "markdown",
      "metadata": {
        "id": "CxD4Br0NX7RY"
      },
      "source": [
        "## **Start of Program**"
      ]
    },
    {
      "cell_type": "code",
      "metadata": {
        "id": "Ft_7AJN-YV-3"
      },
      "source": [
        ""
      ],
      "execution_count": 34,
      "outputs": []
    },
    {
      "cell_type": "markdown",
      "metadata": {
        "id": "pN4xfj_5Bqr0"
      },
      "source": [
        "## **Data Visualisation**"
      ]
    },
    {
      "cell_type": "markdown",
      "metadata": {
        "id": "5ZAx63zYf7_X"
      },
      "source": [
        "### Betting model"
      ]
    },
    {
      "cell_type": "code",
      "metadata": {
        "id": "yFqBxRWnB5sn"
      },
      "source": [
        "# Read sqlite query results into a pandas DataFrame\r\n",
        "con = sqlite3.connect(\"database.sqlite\")\r\n",
        "# selectBets =(\"SELECT home_team_goal, away_team_goal, \"\r\n",
        "# \"B365H, B365D, B365A, BWH, BWD, BWA, IWH, \"\r\n",
        "# \"IWD, IWA, LBH, LBD, LBA, PSH, PSD, PSA, WHH, WHD, WHA, SJH, SJD, SJA, VCH, VCD, \"\r\n",
        "# \"VCA, GBH, GBD, GBA, BSH,  BSD, BSA from Match\")\r\n",
        "selectScore = \"SELECT home_team_goal, away_team_goal, \"\r\n",
        "fromMatch = \"from Match\"\r\n",
        "bookieHome = \"B365H, BWH, IWH, LBH, PSH, WHH, SJH, VCH, GBH, BSH \"\r\n",
        "bookieAway = \"B365A, BWA, IWA, LBA, PSA, WHA, SJA, VCA, GBA, BSA \"\r\n",
        "bookieDraw = \"B365D, BWD, IWD, LBD, PSD, WHD, SJD, VCD, GBD, BSD \"\r\n",
        "dfDraw = pd.read_sql_query(selectScore + bookieDraw + fromMatch, con)\r\n",
        "dfHome = pd.read_sql_query(selectScore + bookieHome + fromMatch, con)\r\n",
        "dfAway = pd.read_sql_query(selectScore + bookieAway + fromMatch, con)\r\n",
        "\r\n",
        "# Verify that result of SQL query is stored in the dataframe\r\n",
        "#print(df)\r\n",
        "\r\n",
        "con.close()\r\n",
        "# Odds evaluation as a predictor market?\r\n",
        "# Select and average out odds..."
      ],
      "execution_count": 41,
      "outputs": []
    },
    {
      "cell_type": "code",
      "metadata": {
        "id": "XclW8u5e3vuH"
      },
      "source": [
        "# print(dfAway.away_team_goal.value_counts())\r\n",
        "# Remove rows with less than 3 odds\r\n",
        "dfAway = dfAway[(dfAway.isnull().sum(axis=1)) < 3]\r\n",
        "# Result 1 = Bets were successful (Away Team win), else result = 0\r\n",
        "dfAway['result'] = np.where(dfAway.home_team_goal < dfAway.away_team_goal,1,0)\r\n",
        "# Create average of odds\r\n",
        "dfAway['odds_average'] = dfAway[[\"B365A\", \"BWA\", \"IWA\", \"LBA\", \"PSA\", \"WHA\", \"SJA\", \"VCA\", \"GBA\", \"BSA\"]].mean(axis=1)\r\n",
        "# Sort by Lowest odds average to highest\r\n",
        "dfAway = dfAway.sort_values(by=['odds_average'], ascending=False)\r\n",
        "dfAway['probability'] = dfAway['odds_average'].pow(-1)#.round(2)\r\n",
        "print (dfAway)\r\n",
        "\"\"\"\r\n",
        "## Iterate through DF and check its BIN\r\n",
        "## Then for each BIN adjust the bet odds mean\r\n",
        "## AND adjust the correct prediction mean\r\n",
        "\"\"\"\r\n",
        "# 80 Bins with step 0.0125 inc 1 & 0\r\n",
        "bins = np.arange(0.0125, 1.0125, 0.0125)\r\n",
        "binC  = np.repeat(np.zeros(2)[np.newaxis,:], 80, axis=0)\r\n",
        "for index, row in dfAway.iterrows():\r\n",
        "  for idx, j in enumerate(bins):\r\n",
        "    if (row['probability'] <= j):\r\n",
        "      binC[idx][0] = binC[idx][0] + 1 # Count total games\r\n",
        "      #binC[idx][0] = ((binC[idx][0] + row['probability']) / binC[idx][2]) # Assumed probability\r\n",
        "      binC[idx][1] = binC[idx][1] + row['result'] # Count games won\r\n",
        "      break\r\n"
      ],
      "execution_count": null,
      "outputs": []
    },
    {
      "cell_type": "code",
      "metadata": {
        "colab": {
          "base_uri": "https://localhost:8080/",
          "height": 1000
        },
        "id": "aC9BnLvSRYgi",
        "outputId": "3bc001c3-0442-4d26-d911-1235f6852231"
      },
      "source": [
        "# (Total Games, Games won)\r\n",
        "print (np.divide(binC.T[1], binC.T[0]))\r\n",
        "print (\"\\n\")\r\n",
        "print (bins)\r\n",
        "print (\"\\n\")\r\n",
        "# plt.plot(bins, binC[0])\r\n",
        "# print (np.divide(binC.T[0], binC.T[1]))\r\n",
        "# plt.scatter(np.divide(binC.T[1], binC.T[0]), bins, marker = 'x')\r\n",
        "# plt.xlabel(\"x axis caption\")\r\n",
        "\r\n",
        "fig, ax = plt.subplots(figsize=(10, 10))\r\n",
        "print (type(ax))\r\n",
        "ax.scatter(bins, np.divide(binC.T[1], binC.T[0]),marker = 'x')\r\n",
        "ax.plot([1,0],[1,0],color='red')\r\n",
        "ax.set_ylabel('Real Probability')\r\n",
        "ax.set_xlabel('Odds Probability')\r\n",
        "ax.set_xlim(xmin=0,xmax=1)\r\n",
        "ax.set_ylim(ymin=0,ymax=1)"
      ],
      "execution_count": 178,
      "outputs": [
        {
          "output_type": "stream",
          "text": [
            "[       nan        nan 0.         0.03174603 0.01234568 0.04230769\n",
            " 0.05202312 0.08430233 0.04899135 0.11165049 0.12093023 0.12345679\n",
            " 0.1322314  0.1300813  0.16666667 0.1978022  0.20556745 0.19583333\n",
            " 0.17374517 0.22437137 0.22056385 0.22380952 0.24817518 0.22108346\n",
            " 0.27768595 0.28698752 0.2654424  0.33150183 0.30612245 0.37744035\n",
            " 0.31231231 0.37704918 0.40524781 0.40967742 0.40925267 0.36398467\n",
            " 0.44711538 0.45933014 0.45604396 0.45294118 0.53076923 0.52755906\n",
            " 0.49122807 0.52083333 0.512      0.54954955 0.5        0.65289256\n",
            " 0.61261261 0.54545455 0.66386555 0.67676768 0.61111111 0.57575758\n",
            " 0.64788732 0.58227848 0.68421053 0.67692308 0.76923077 0.74509804\n",
            " 0.71052632 0.77142857 0.75675676 0.83870968 0.72       0.85\n",
            " 0.45454545 0.4        0.875      1.         1.                nan\n",
            " 1.                nan        nan        nan        nan        nan\n",
            "        nan        nan]\n",
            "\n",
            "\n",
            "[0.0125 0.025  0.0375 0.05   0.0625 0.075  0.0875 0.1    0.1125 0.125\n",
            " 0.1375 0.15   0.1625 0.175  0.1875 0.2    0.2125 0.225  0.2375 0.25\n",
            " 0.2625 0.275  0.2875 0.3    0.3125 0.325  0.3375 0.35   0.3625 0.375\n",
            " 0.3875 0.4    0.4125 0.425  0.4375 0.45   0.4625 0.475  0.4875 0.5\n",
            " 0.5125 0.525  0.5375 0.55   0.5625 0.575  0.5875 0.6    0.6125 0.625\n",
            " 0.6375 0.65   0.6625 0.675  0.6875 0.7    0.7125 0.725  0.7375 0.75\n",
            " 0.7625 0.775  0.7875 0.8    0.8125 0.825  0.8375 0.85   0.8625 0.875\n",
            " 0.8875 0.9    0.9125 0.925  0.9375 0.95   0.9625 0.975  0.9875 1.    ]\n",
            "\n",
            "\n",
            "<class 'matplotlib.axes._subplots.AxesSubplot'>\n"
          ],
          "name": "stdout"
        },
        {
          "output_type": "stream",
          "text": [
            "/usr/local/lib/python3.7/dist-packages/ipykernel_launcher.py:2: RuntimeWarning: invalid value encountered in true_divide\n",
            "  \n",
            "/usr/local/lib/python3.7/dist-packages/ipykernel_launcher.py:13: RuntimeWarning: invalid value encountered in true_divide\n",
            "  del sys.path[0]\n"
          ],
          "name": "stderr"
        },
        {
          "output_type": "execute_result",
          "data": {
            "text/plain": [
              "(0.0, 1.0)"
            ]
          },
          "metadata": {
            "tags": []
          },
          "execution_count": 178
        },
        {
          "output_type": "display_data",
          "data": {
            "image/png": "[encoded data removed]",
            "text/plain": [
              "<Figure size 720x720 with 1 Axes>"
            ]
          },
          "metadata": {
            "tags": [],
            "needs_background": "light"
          }
        }
      ]
    },
    {
      "cell_type": "code",
      "metadata": {
        "id": "CMs7g9OQwWe2"
      },
      "source": [
        "# # TODO:\r\n",
        "# Check for why there are outliers\r\n",
        "# Set minimum for each bin (SO it doesnt have any y = 1)\r\n",
        "# Analyse for if your graph works\r\n",
        "# DO the same for Home and Draw\r\n",
        "# Then create a stats table with analysis of the data e.g. Mean, Median ...\r\n"
      ],
      "execution_count": null,
      "outputs": []
    },
    {
      "cell_type": "markdown",
      "metadata": {
        "id": "ifEYYvDGgiTW"
      },
      "source": [
        "### \"Betting Strategy'"
      ]
    },
    {
      "cell_type": "code",
      "metadata": {
        "id": "VrlKC59dgueP"
      },
      "source": [
        ""
      ],
      "execution_count": 36,
      "outputs": []
    }
  ]
}